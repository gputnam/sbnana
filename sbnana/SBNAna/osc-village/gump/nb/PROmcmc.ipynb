{
 "cells": [
  {
   "cell_type": "code",
   "execution_count": null,
   "id": "0",
   "metadata": {},
   "outputs": [],
   "source": [
    "import profit\n",
    "import numpy as np\n",
    "import pandas as pd\n",
    "import matplotlib.pyplot as plt"
   ]
  },
  {
   "cell_type": "code",
   "execution_count": null,
   "id": "1",
   "metadata": {},
   "outputs": [],
   "source": [
    "profit.Globals.GLOBAL_LEVEL = profit.Globals.LOG_WARNING"
   ]
  },
  {
   "cell_type": "code",
   "execution_count": null,
   "id": "2",
   "metadata": {},
   "outputs": [],
   "source": [
    "# Input file\n",
    "fname = \"data/combined_genie_large.gump.df\"\n",
    "\n",
    "# Fit variable -- try out calorimetric neutrino energy, transverse momentum\n",
    "\n",
    "# fitvar = \"caloE\"\n",
    "# unit = \"Reconstructed Neutrino Energy [GeV]\"\n",
    "# bins = [0.3, 0.4, 0.45, 0.5, 0.55, 0.6, 0.65, 0.7, 0.75, 0.8, 0.85, 0.9, 0.95, 1.0, 1.25, 1.5, 2.0, 3.0]\n",
    "# bins = list(np.linspace(0.3, 1.3, 11)) + [1.5, 2., 3.]\n",
    "\n",
    "fitvar = \"dPt\"\n",
    "unit = \"Reconstructed Transverse Momentum [GeV/c]\"\n",
    "bins = np.linspace(0, 1, 11)\n",
    "\n",
    "# Lookup POT\n",
    "FILE_POT = pd.read_hdf(fname, key=\"pot\")[0].values[0]\n",
    "FILE_POT"
   ]
  },
  {
   "cell_type": "code",
   "execution_count": null,
   "id": "3",
   "metadata": {},
   "outputs": [],
   "source": [
    "# CONFIGURE PROfit INSTANCE\n",
    "\n",
    "from profit import xml as pxml\n",
    "\n",
    "mode = \"nu\"\n",
    "detector = \"SBND\"\n",
    "POT = 2e20\n",
    "\n",
    "numucc_subchannel = pxml.PROXMLSubChannel(\n",
    "  name=\"numucc\",\n",
    "  plotname=\"#nu_{#mu} CC\",\n",
    "  color=\"#FF6961\"\n",
    ")\n",
    "\n",
    "channels = [\n",
    "  pxml.PROXMLChannel(\n",
    "    name=\"numu\",\n",
    "    unit=unit,\n",
    "    bins=bins,\n",
    "    truebin_min=0,\n",
    "    truebin_max=2,\n",
    "    truebin_nbin=200,\n",
    "    subchannel=[numucc_subchannel]\n",
    "  )\n",
    "]\n",
    "\n",
    "flux_variations = [\n",
    "    pxml.PROXMLVariation(name=\"expskin_Flux\", type=\"covariance\"),\n",
    "    pxml.PROXMLVariation(name=\"horncurrent_Flux\", type=\"covariance\"),\n",
    "    pxml.PROXMLVariation(name=\"nucleoninexsec_Flux\", type=\"covariance\"),\n",
    "    pxml.PROXMLVariation(name=\"nucleonqexsec_Flux\", type=\"covariance\"),\n",
    "    pxml.PROXMLVariation(name=\"nucleontotxsec_Flux\", type=\"covariance\"),\n",
    "    pxml.PROXMLVariation(name=\"pioninexsec_Flux\", type=\"covariance\"),\n",
    "    pxml.PROXMLVariation(name=\"pionqexsec_Flux\", type=\"covariance\"),\n",
    "    pxml.PROXMLVariation(name=\"piontotxsec_Flux\", type=\"covariance\"),\n",
    "    pxml.PROXMLVariation(name=\"piplus_Flux\", type=\"covariance\"),\n",
    "    pxml.PROXMLVariation(name=\"piminus_Flux\", type=\"covariance\"),\n",
    "    pxml.PROXMLVariation(name=\"kplus_Flux\", type=\"covariance\"),\n",
    "    pxml.PROXMLVariation(name=\"kminus_Flux\", type=\"covariance\"),\n",
    "    pxml.PROXMLVariation(name=\"kzero_Flux\", type=\"covariance\"),\n",
    "]\n",
    "\n",
    "xsec_variations = [\n",
    "    pxml.PROXMLVariation(name=\"GENIEReWeight_SBN_v1_multisigma_RPA_CCQE\", type=\"spline\"),\n",
    "    pxml.PROXMLVariation(name=\"GENIEReWeight_SBN_v1_multisigma_ZExpA1CCQE\", type=\"spline\"),\n",
    "    pxml.PROXMLVariation(name=\"GENIEReWeight_SBN_v1_multisigma_ZExpA2CCQE\", type=\"spline\"),\n",
    "    pxml.PROXMLVariation(name=\"GENIEReWeight_SBN_v1_multisigma_ZExpA3CCQE\", type=\"spline\"),\n",
    "    pxml.PROXMLVariation(name=\"GENIEReWeight_SBN_v1_multisigma_ZExpA4CCQE\", type=\"spline\"),\n",
    "]\n",
    "\n",
    "syst_friends = [\n",
    "  pxml.PROXMLFriendTree(filename=fname, treename=\"wgt\"),\n",
    "]\n",
    "\n",
    "numucc_branch = pxml.PROXMLBranch(\n",
    "  associated_subchannel=pxml.PROXMLBranch.get_associated_subchannel(mode, detector, channels[0], numucc_subchannel),\n",
    "  name=fitvar,\n",
    "  true_param_name=\"trueE\",\n",
    "  true_L_name=\"baseline / 1000\",\n",
    "  pdg_name=\"truepdg\",\n",
    "  additional_weight=\"(iscc == 1) && ((truepdg == 14) || (truepdg == -14))\",\n",
    "  model_rule=\"1\"\n",
    ")\n",
    "\n",
    "mcfiles = [\n",
    "  pxml.PROXMLMCFile(\n",
    "    filename=fname,\n",
    "    treename=\"var\",\n",
    "    pot=FILE_POT,\n",
    "    friend=syst_friends,\n",
    "    branch=[numucc_branch],\n",
    "    maxevents=50000,\n",
    "    scale=1.0,\n",
    "  )\n",
    "]\n",
    "\n",
    "rules = [\n",
    "  pxml.PROXMLModelRule(name=\"No Osc\", index=0),\n",
    "  pxml.PROXMLModelRule(name=\"Numu Dis\", index=1),\n",
    "  pxml.PROXMLModelRule(name=\"Nue App\", index=2),\n",
    "]\n",
    "\n",
    "model = pxml.PROXMLModel(\n",
    "  tag=\"numudis\",\n",
    "  rule=rules\n",
    ")\n",
    "\n",
    "config = pxml.PROXMLMaker(\n",
    "  mode=mode,\n",
    "  detector=detector,\n",
    "  model=model,\n",
    "  channel=channels,\n",
    "  plotpot=POT,\n",
    "  allow_variation_list=xsec_variations,\n",
    "  mcfile=mcfiles\n",
    ")\n",
    "\n",
    "with open(\"PROmcmc.xml\", \"w+\") as f:\n",
    "    f.write(config.to_xml())\n",
    "\n",
    "print(config.to_xml())"
   ]
  },
  {
   "cell_type": "code",
   "execution_count": null,
   "id": "4",
   "metadata": {},
   "outputs": [],
   "source": [
    "# Init the config object\n",
    "c = profit.PROconfig(\"PROmcmc.xml\")\n",
    "\n",
    "# Load the SystStruct's and PROpeller\n",
    "#\n",
    "# This can be used interchangably with profit.PROcess_CAFana\n",
    "syst_structs, prop = profit.PROcess_dataframes(c)\n",
    "\n",
    "# Load systematic weights into PROsyst\n",
    "systs = profit.PROsyst(syst_structs)\n",
    "\n",
    "# Define oscillation model\n",
    "osc = profit.PROsc(prop)"
   ]
  },
  {
   "cell_type": "code",
   "execution_count": null,
   "id": "5",
   "metadata": {},
   "outputs": [],
   "source": [
    "# CV spectrum\n",
    "data = profit.FillCVSpectrum(c, prop, True)"
   ]
  },
  {
   "cell_type": "code",
   "execution_count": null,
   "id": "6",
   "metadata": {},
   "outputs": [],
   "source": [
    "bins = np.array(c.m_channel_bin_edges[0])\n",
    "centers = (bins[:-1] + bins[1:]) / 2\n",
    "widths = (bins[1:] - bins[:-1])\n",
    "\n",
    "_ = plt.hist(centers, bins=bins, weights=data.Spec()/(widths/0.05), histtype=\"step\", label=\"CV\", linewidth=2)\n",
    "\n",
    "# Example shifted spectrum\n",
    "_ = plt.hist(centers, bins=bins, weights=profit.FillRecoSpectra(c, prop, systs, {\"GENIEReWeight_SBN_v1_multisigma_RPA_CCQE\": 1.}, True).Spec()/(widths/0.05),\n",
    "            histtype=\"step\", label=\"RPA $+1\\\\sigma$\", linewidth=2)\n",
    "_ = plt.hist(centers, bins=bins, weights=profit.FillRecoSpectra(c, prop, systs, {\"GENIEReWeight_SBN_v1_multisigma_ZExpA1CCQE\": 1.}, True).Spec()/(widths/0.05),\n",
    "            histtype=\"step\", label=\"Z Exp. A1 $+1\\\\sigma$\", linewidth=2)\n",
    "_ = plt.hist(centers, bins=bins, weights=profit.FillRecoSpectra(c, prop, systs, {\"GENIEReWeight_SBN_v1_multisigma_ZExpA2CCQE\": 1.}, True).Spec()/(widths/0.05),\n",
    "            histtype=\"step\", label=\"Z Exp. A2 $+1\\\\sigma$\", linewidth=2)\n",
    "\n",
    "\n",
    "plt.xlabel(c.m_channel_units[0])\n",
    "plt.ylabel(\"Entries / 50 MeV / %.0e POT\" % c.m_plot_pot)\n",
    "plt.legend()"
   ]
  },
  {
   "cell_type": "code",
   "execution_count": null,
   "id": "7",
   "metadata": {},
   "outputs": [],
   "source": [
    "# Get the chi2 function\n",
    "osc_params = np.array([]) # No oscillation\n",
    "nparams = systs.GetNSplines() # Number of parameters in fit. One for each systematic\n",
    "\n",
    "chi = profit.PROchi(\"3plus1\", c, prop, systs, osc, data, nparams, nparams, profit.EvalStrategy.BinnedChi2, osc_params)"
   ]
  },
  {
   "cell_type": "code",
   "execution_count": null,
   "id": "8",
   "metadata": {},
   "outputs": [],
   "source": [
    "# bound fit at +/- 3 sigma\n",
    "lower_bound = np.full((nparams,), -3)\n",
    "upper_bound = np.full((nparams,), 3)\n",
    "\n",
    "# parameters\n",
    "param = profit.LBFGSBParam()\n",
    "param.epsilon = 1e-6\n",
    "param.max_iterations = 100\n",
    "param.max_linesearch = 50\n",
    "param.delta = 1e-6\n",
    "\n",
    "fitter = profit.PROfitter(upper_bound, lower_bound, param)"
   ]
  },
  {
   "cell_type": "code",
   "execution_count": null,
   "id": "9",
   "metadata": {},
   "outputs": [],
   "source": [
    "fit_result = fitter.Fit(chi)"
   ]
  },
  {
   "cell_type": "code",
   "execution_count": null,
   "id": "10",
   "metadata": {},
   "outputs": [],
   "source": [
    "fitter.best_fit, fitter.Covariance(), np.sqrt(np.diag(fitter.Covariance()))"
   ]
  },
  {
   "cell_type": "code",
   "execution_count": null,
   "id": "11",
   "metadata": {},
   "outputs": [],
   "source": [
    "# Run MCMC"
   ]
  },
  {
   "cell_type": "code",
   "execution_count": null,
   "id": "12",
   "metadata": {},
   "outputs": [],
   "source": [
    "def log_probability(p):\n",
    "    # Limits\n",
    "    chi_v = chi(p, False)\n",
    "    if np.isnan(chi_v):\n",
    "        print(p)\n",
    "    return -chi_v/ 2"
   ]
  },
  {
   "cell_type": "code",
   "execution_count": null,
   "id": "13",
   "metadata": {},
   "outputs": [],
   "source": [
    "chi([0.]*nparams, False)"
   ]
  },
  {
   "cell_type": "code",
   "execution_count": null,
   "id": "14",
   "metadata": {},
   "outputs": [],
   "source": [
    "import emcee\n",
    "\n",
    "ndim = nparams\n",
    "nwalkers = nparams*10\n",
    "p0 = np.random.randn(ndim * nwalkers).reshape((nwalkers, ndim)) # Initial positions of walkers\n",
    "nsteps = 10_000  # Number of steps"
   ]
  },
  {
   "cell_type": "code",
   "execution_count": null,
   "id": "15",
   "metadata": {},
   "outputs": [],
   "source": [
    "sampler = emcee.EnsembleSampler(nwalkers, ndim, log_probability)\n",
    "_ = sampler.run_mcmc(p0, nsteps, progress=True)"
   ]
  },
  {
   "cell_type": "code",
   "execution_count": null,
   "id": "16",
   "metadata": {},
   "outputs": [],
   "source": [
    "samples = sampler.get_chain(flat=True, thin=100)"
   ]
  },
  {
   "cell_type": "code",
   "execution_count": null,
   "id": "17",
   "metadata": {},
   "outputs": [],
   "source": [
    "np.mean(samples, axis=0), np.std(samples, axis=0)"
   ]
  },
  {
   "cell_type": "code",
   "execution_count": null,
   "id": "18",
   "metadata": {},
   "outputs": [],
   "source": [
    "fitter.BestFit(), np.sqrt(np.diag(fitter.Covariance()))"
   ]
  },
  {
   "cell_type": "code",
   "execution_count": null,
   "id": "19",
   "metadata": {},
   "outputs": [],
   "source": [
    "import matplotlib.pyplot as plt"
   ]
  },
  {
   "cell_type": "code",
   "execution_count": null,
   "id": "20",
   "metadata": {},
   "outputs": [],
   "source": [
    "_ = plt.hist(samples[:, 0])"
   ]
  },
  {
   "cell_type": "code",
   "execution_count": null,
   "id": "21",
   "metadata": {},
   "outputs": [],
   "source": [
    "import corner"
   ]
  },
  {
   "cell_type": "code",
   "execution_count": null,
   "id": "22",
   "metadata": {},
   "outputs": [],
   "source": [
    "_ = corner.corner(samples, truths=[0]*5, quantiles=[0.5 - 0.34, 0.5 + 0.34], range=[(-3, 3)]*5)"
   ]
  },
  {
   "cell_type": "code",
   "execution_count": null,
   "id": "23",
   "metadata": {},
   "outputs": [],
   "source": []
  },
  {
   "cell_type": "code",
   "execution_count": null,
   "id": "24",
   "metadata": {},
   "outputs": [],
   "source": []
  }
 ],
 "metadata": {
  "kernelspec": {
   "display_name": "profit",
   "language": "python",
   "name": "profit"
  },
  "language_info": {
   "codemirror_mode": {
    "name": "ipython",
    "version": 3
   },
   "file_extension": ".py",
   "mimetype": "text/x-python",
   "name": "python",
   "nbconvert_exporter": "python",
   "pygments_lexer": "ipython3",
   "version": "3.13.0"
  }
 },
 "nbformat": 4,
 "nbformat_minor": 5
}
